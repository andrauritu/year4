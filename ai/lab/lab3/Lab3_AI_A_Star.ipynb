{
 "cells": [
  {
   "cell_type": "markdown",
   "metadata": {},
   "source": [
    "# Artificial Intelligence - Laboratory 03 : State-Space Search"
   ]
  },
  {
   "cell_type": "markdown",
   "metadata": {},
   "source": [
    "## Introduction\n",
    "\n",
    "State-space search or pathfinding requires a sequence of actions in the space of states \\begin{equation*} s_{0} \\mapsto s_{f} \\end{equation*} which can be:\n",
    "* explored, \n",
    "* discovered(frontier), \n",
    "* unexplored.\n",
    "\n",
    "**A\\*** is the most widespread option for this type of problems in AI: the algorithm finds the shortest path and uses a heuristic to guide itself."
   ]
  },
  {
   "cell_type": "markdown",
   "metadata": {},
   "source": [
    "## Today's Challenge\n",
    "\n",
    "Given a bidimensional map with various obstacles, find the shortest path between two positions within it.\n",
    "\n",
    "_Note:_ The **labyrinth** variable will play the role of the bidimensional map."
   ]
  },
  {
   "cell_type": "code",
   "execution_count": 4,
   "metadata": {},
   "outputs": [
    {
     "data": {
      "image/png": "[encoded data removed]",
      "text/plain": [
       "<Figure size 640x480 with 1 Axes>"
      ]
     },
     "metadata": {},
     "output_type": "display_data"
    }
   ],
   "source": [
    "# Dimensions of the map.\n",
    "height = 10\n",
    "width = 20\n",
    "\n",
    "# Bidimensional map as a list of lists.\n",
    "# The empty cells are marked with 0, while blocks of walls with 1.\n",
    "labyrinth = [[0 for c in range(width)] for r in range(height)]\n",
    "\n",
    "for r in range(2, 7):\n",
    "    labyrinth[r][6] = 1\n",
    "    labyrinth[6][r] = 1\n",
    "labyrinth[2][7] = 1\n",
    "\n",
    "# Display labyrinth\n",
    "%matplotlib inline\n",
    "import matplotlib.pyplot as pyplot\n",
    "pyplot.imshow(labyrinth, cmap='Greys', interpolation='nearest');"
   ]
  },
  {
   "cell_type": "markdown",
   "metadata": {},
   "source": [
    "## Advanced functions\n",
    "\n",
    "To simplify the iteration process, we can use: \n",
    "\n",
    "* `lambda`, the anonymous function which always returns an expression and has the following syntax:\n",
    "\n",
    "```python\n",
    "    lambda arguments: expression\n",
    "```"
   ]
  },
  {
   "cell_type": "code",
   "execution_count": 5,
   "metadata": {},
   "outputs": [],
   "source": [
    "# For this problem, we want to find the path \n",
    "# from the start point\n",
    "\n",
    "start = (5, 5)\n",
    "\n",
    "# to the end point.\n",
    "final = (8, 8)\n",
    "\n",
    "# Let us verify if having a list of tuples,\n",
    "# their position corresponds to the endpoint.\n",
    "\n",
    "# First, the lambda function:\n",
    "is_final = lambda position: position == final"
   ]
  },
  {
   "cell_type": "markdown",
   "metadata": {},
   "source": [
    "Lambda plays the role of an input argument in other functions, such as:\n",
    "\n",
    "* `map`, which passes each element of the given iterable to a function:\n",
    "\n",
    "```python\n",
    "    map(function, iterable)\n",
    "```"
   ]
  },
  {
   "cell_type": "code",
   "execution_count": 6,
   "metadata": {},
   "outputs": [
    {
     "data": {
      "text/plain": [
       "[False, False, True]"
      ]
     },
     "execution_count": 6,
     "metadata": {},
     "output_type": "execute_result"
    }
   ],
   "source": [
    "# Second, the map function:\n",
    "list(map(is_final, [(1,1), (3, 6), (8, 8)]))"
   ]
  },
  {
   "cell_type": "markdown",
   "metadata": {},
   "source": [
    "* `filter` can easily select the values from a sequence with a certain property:\n",
    "\n",
    "```python\n",
    "    filter(function, sequence)\n",
    "```"
   ]
  },
  {
   "cell_type": "code",
   "execution_count": 7,
   "metadata": {},
   "outputs": [
    {
     "data": {
      "text/plain": [
       "[(8, 8)]"
      ]
     },
     "execution_count": 7,
     "metadata": {},
     "output_type": "execute_result"
    }
   ],
   "source": [
    "list(filter(is_final, [(1,1), (3, 6), (8, 8)]))"
   ]
  },
  {
   "cell_type": "markdown",
   "metadata": {},
   "source": [
    "## The A* algorithm\n",
    "\n",
    "With the help of the following tasks, create the building blocks of the algorithm."
   ]
  },
  {
   "cell_type": "markdown",
   "metadata": {},
   "source": [
    "### Task 0\n",
    "\n",
    "**a.** Given a certain position represented by a `tuple`, find if its location is valid.\n",
    "\n",
    "While exploring the bidirectional map, be careful to:\n",
    "\n",
    "* check if the available coordinates are inside the plane (0-height, 0-width),\n",
    "* verify if the position is free and not occupied by an obstacle."
   ]
  },
  {
   "cell_type": "code",
   "execution_count": 9,
   "metadata": {},
   "outputs": [],
   "source": [
    "def verify_location(position): # this one takes the position and checks if the position is valid or not, to not be outside the grid and also to make sure the cell is not occupied by an obstacle, so value of cell is 0\n",
    "    # extract coordinates\n",
    "    row,col = position\n",
    "\n",
    "    if 0 <= row < height and 0 <= col < width:\n",
    "        if labyrinth[row][col] == 0:\n",
    "            return True\n",
    "    \n",
    "    return False"
   ]
  },
  {
   "cell_type": "code",
   "execution_count": 10,
   "metadata": {},
   "outputs": [
    {
     "data": {
      "text/plain": [
       "[False, False, False, True, False, True]"
      ]
     },
     "execution_count": 10,
     "metadata": {},
     "output_type": "execute_result"
    }
   ],
   "source": [
    "list(map(verify_location, [(-1,2), (height,3), (width,4), (5,5), (6,6), (0,9)])) \n",
    "# expected answer: [False, False, False, True, False, True]"
   ]
  },
  {
   "cell_type": "markdown",
   "metadata": {},
   "source": [
    "**b.** Once you have verified the position, return its empty neighbours in a `list`.\n",
    "\n",
    "Use both `filter` function and `verifiy_location` written above."
   ]
  },
  {
   "cell_type": "code",
   "execution_count": 11,
   "metadata": {},
   "outputs": [],
   "source": [
    "def get_neighbours(position): # we have 8 neighbours and then we can filter our list by using the verify_location function to get only the valid ones\n",
    "\n",
    "    row, col = position\n",
    "    all_neighbours = [\n",
    "        (row-1, col-1),\n",
    "        (row-1, col),\n",
    "        (row-1, col+1),\n",
    "        (row, col-1),\n",
    "        (row, col+1),\n",
    "        (row+1, col-1),\n",
    "        (row+1, col),\n",
    "        (row+1, col+1),\n",
    "    ]\n",
    "    result = list(filter(verify_location, all_neighbours))\n",
    "\n",
    "    return result"
   ]
  },
  {
   "cell_type": "code",
   "execution_count": 12,
   "metadata": {},
   "outputs": [
    {
     "data": {
      "text/plain": [
       "[[(0, 8), (0, 10), (1, 8), (1, 9), (1, 10)], [(4, 4), (4, 5), (5, 4)]]"
      ]
     },
     "execution_count": 12,
     "metadata": {},
     "output_type": "execute_result"
    }
   ],
   "source": [
    "[get_neighbours(p) for p in [(0,9), (5,5)]]\n",
    "# expected answer: [[(1, 10), (0, 10), (1, 9), (0, 8), (1, 8)], [(4, 4), (4, 5), (5, 4)]]"
   ]
  },
  {
   "cell_type": "markdown",
   "metadata": {},
   "source": [
    "### Heuristic search\n",
    "\n",
    "After checking the surroundings, we want to expand our frontier towards the goal, rather than searching for all possible directions."
   ]
  },
  {
   "cell_type": "markdown",
   "metadata": {},
   "source": [
    "### Task 1\n",
    "\n",
    "**a.** Compute the _Euclidean distance_:\n",
    "\n",
    "For two dimensions: \n",
    "\n",
    "\\begin{equation*}\n",
    "d(x, y) = \\sqrt{(x_{1} - x_{2})^{2} + (y_{1} - y_{2})^{2}}\n",
    "\\end{equation*}"
   ]
  },
  {
   "cell_type": "code",
   "execution_count": null,
   "metadata": {},
   "outputs": [],
   "source": [
    "from math import sqrt"
   ]
  },
  {
   "cell_type": "code",
   "execution_count": 13,
   "metadata": {},
   "outputs": [],
   "source": [
    "def euclidean_distance(a, b):\n",
    "    (x1, y1) = a\n",
    "    (x2, y2) = b\n",
    "    distance = sqrt((x1 - x2) ** 2 + (y1 - y2) ** 2)\n",
    "    \n",
    "    return distance"
   ]
  },
  {
   "cell_type": "code",
   "execution_count": null,
   "metadata": {},
   "outputs": [],
   "source": [
    "euclidean_distance((2,3), (4, 7))\n",
    "# expected answer: 4.47213595499958"
   ]
  },
  {
   "cell_type": "markdown",
   "metadata": {},
   "source": [
    "**b.** Compute the _Manhattan distance_:\n",
    "\n",
    "For two dimensions: \n",
    "\n",
    "\\begin{equation*}\n",
    "d(x, y) = \\left | x_{1} - x_{2} \\right | +  \\left | y_{1} - y_{2} \\right |\n",
    "\\end{equation*}"
   ]
  },
  {
   "cell_type": "code",
   "execution_count": 14,
   "metadata": {},
   "outputs": [],
   "source": [
    "def manhattan_distance(a, b):\n",
    "    (x1, y1) = a\n",
    "    (x2, y2) = b\n",
    "    distance = abs(x1 - x2) + abs(y1 - y2)\n",
    "    return distance"
   ]
  },
  {
   "cell_type": "code",
   "execution_count": 15,
   "metadata": {},
   "outputs": [
    {
     "data": {
      "text/plain": [
       "5"
      ]
     },
     "execution_count": 15,
     "metadata": {},
     "output_type": "execute_result"
    }
   ],
   "source": [
    "manhattan_distance((2,3), (4,0))\n",
    "# expected answer: 5"
   ]
  },
  {
   "cell_type": "markdown",
   "metadata": {},
   "source": [
    "To decide which location should be first checked from the _frontier_, we need to verify if the new possible route is better than the best previous one.\n",
    "\n",
    "In practice, this could be accomplished using a **Priority Queue**. "
   ]
  },
  {
   "cell_type": "code",
   "execution_count": 6,
   "metadata": {},
   "outputs": [
    {
     "name": "stdout",
     "output_type": "stream",
     "text": [
      "((0, 1), 'cost_so_far: 1')\n",
      "((1, 2), 'cost_so_far: 2')\n",
      "((1, 4), 'cost_so_far: 3')\n"
     ]
    }
   ],
   "source": [
    "from heapq import heappop, heappush\n",
    "\n",
    "priority_queue = []\n",
    "heappush(priority_queue, ((1, 2), 'cost_so_far: 2'))\n",
    "heappush(priority_queue, ((0, 1), 'cost_so_far: 1'))\n",
    "heappush(priority_queue, ((1, 4), 'cost_so_far: 3'))\n",
    "\n",
    "print(heappop(priority_queue))\n",
    "print(heappop(priority_queue))\n",
    "print(heappop(priority_queue))"
   ]
  },
  {
   "cell_type": "markdown",
   "metadata": {},
   "source": [
    "The frontier uses a priority queue for expansion and has the following structure: \n",
    "\n",
    "`frontier[(discovered_nodes_as_tuple), (estimated_cost, node)]`\n",
    "\n",
    "Save the discovered nodes in a dictionary:\n",
    "\n",
    "`d[new_node] = (parent, cost_so_far)`\n",
    "\n",
    "* The movement between cells costs one unit and represents the `real cost g` which helps in measuring the actual distance.\n",
    "* The estimated distance to the goal is given by the `heuristic function` defined before."
   ]
  },
  {
   "cell_type": "markdown",
   "metadata": {},
   "source": [
    "### Task 2\n",
    "\n",
    "**a.** Implement **A\\*** algorithm which receives as arguments the start node, the final node and the heuristic function."
   ]
  },
  {
   "cell_type": "code",
   "execution_count": 2,
   "metadata": {},
   "outputs": [],
   "source": [
    "from heapq import heappop, heappush"
   ]
  },
  {
   "cell_type": "code",
   "execution_count": null,
   "metadata": {},
   "outputs": [
    {
     "ename": "IndentationError",
     "evalue": "expected an indented block after 'if' statement on line 23 (1479722676.py, line 29)",
     "output_type": "error",
     "traceback": [
      "  \u001b[36mCell\u001b[39m\u001b[36m \u001b[39m\u001b[32mIn[4]\u001b[39m\u001b[32m, line 29\u001b[39m\n\u001b[31m    \u001b[39m\u001b[31m\"\"\"TO DO\"\"\"\u001b[39m\n    ^\n\u001b[31mIndentationError\u001b[39m\u001b[31m:\u001b[39m expected an indented block after 'if' statement on line 23\n"
     ]
    }
   ],
   "source": [
    "from heapq import heappop, heappush\n",
    "\n",
    "def astar(start, end, h):\n",
    "    frontier = []\n",
    "    heappush(frontier, (0 + h(start, end), start))  # (f = g + h, node)\n",
    "    # Discovered nodes as dictionary\n",
    "    discovered = {start: (None, 0)}  # node -> (parent, g)\n",
    "    \n",
    "    while frontier:\n",
    "        # Pop node with lowest f value\n",
    "        current_f, current_node = heappop(frontier)\n",
    "        if is_final(current_node):\n",
    "            path = []\n",
    "            while current_node is not None:\n",
    "                path.append(current_node)\n",
    "                current_node = discovered[current_node][0]\n",
    "\n",
    "            path.reverse()\n",
    "            return path, discovered\n",
    "        else:\n",
    "            current_cost = discovered[current_node][1]\n",
    "            for n in get_neighbours(current_node):\n",
    "                if n not in discovered:\n",
    "                    g = current_cost + 1 \n",
    "                    f = g + h(n, end)\n",
    "\n",
    "                \n",
    "        # we add this curr node to discovered\n",
    "        # then we explore the neighbours for the curr node with the func at task 0\n",
    "        # we have 2 cases: if n is alredy in discovered or if not we add it there\n",
    "    \n",
    "        \"\"\"TO DO\"\"\"\n",
    "    \n",
    "    # If the loop finishes without finding a path, return an empty list and discovered\n",
    "    return [], discovered"
   ]
  },
  {
   "cell_type": "markdown",
   "metadata": {},
   "source": [
    "**b.** Run the algorithm using different heuristics."
   ]
  },
  {
   "cell_type": "code",
   "execution_count": null,
   "metadata": {},
   "outputs": [],
   "source": [
    "def display_map(discovered): #this will display our trials as a map and we ll see how the algo is finding the solution and finiding the cells  and based oon this we answer qs in t3\n",
    "    cost_map = [[discovered[(r, c)][1] if (r, c) in discovered else 0 for c in range(width)] for r in range(height)]\n",
    "    pyplot.imshow(cost_map, cmap='Greys', interpolation='nearest')\n",
    "    pyplot.show()"
   ]
  },
  {
   "cell_type": "code",
   "execution_count": null,
   "metadata": {},
   "outputs": [],
   "source": [
    "path, discovered = astar(start, final, euclidean_distance)\n",
    "print(\"Path using Euclidean distance:\", path)\n",
    "display_map(discovered)"
   ]
  },
  {
   "cell_type": "code",
   "execution_count": null,
   "metadata": {},
   "outputs": [],
   "source": [
    "path, discovered = astar(start, final, manhattan_distance)\n",
    "print(\"Path using Manhattan distance:\", path)\n",
    "display_map(discovered)"
   ]
  },
  {
   "cell_type": "markdown",
   "metadata": {},
   "source": [
    "### Task 3\n",
    "\n",
    "* Which heuristic function can be used in our problem, when we can move diagonally on the map?\n",
    "* Which is the best one to use?\n",
    "* What if we could only move in the 4 cardinal directions?"
   ]
  },
  {
   "cell_type": "code",
   "execution_count": null,
   "metadata": {},
   "outputs": [],
   "source": []
  }
 ],
 "metadata": {
  "kernelspec": {
   "display_name": "Python 3",
   "language": "python",
   "name": "python3"
  },
  "language_info": {
   "codemirror_mode": {
    "name": "ipython",
    "version": 3
   },
   "file_extension": ".py",
   "mimetype": "text/x-python",
   "name": "python",
   "nbconvert_exporter": "python",
   "pygments_lexer": "ipython3",
   "version": "3.12.4"
  }
 },
 "nbformat": 4,
 "nbformat_minor": 4
}
