{
  "cells": [
    {
      "cell_type": "raw",
      "metadata": {
        "id": "gVtTU731ugud"
      },
      "source": [
        "# Artificial Intelligence - Laboratory 02:Python Introduction part II\n"
      ]
    },
    {
      "cell_type": "markdown",
      "metadata": {},
      "source": [
        "##### Review"
      ]
    },
    {
      "cell_type": "markdown",
      "metadata": {},
      "source": [
        "The following formula computes a _Z score_ and measures how far a single raw data value is from the population mean.\n",
        "\n",
        "\\begin{equation*}\n",
        "z = \\frac{X - \\mu }{\\sigma }\n",
        "\\end{equation*}\n",
        "\n",
        "where:\n",
        "* **_X_** is a single raw data value\n",
        "* `mu` is the population mean\n",
        "* `sigma` is the population standard deviation\n",
        "\n",
        "To find the standard deviation, the equation below comes in hand:\n",
        "\n",
        "\\begin{equation*}\n",
        "\\sigma = \\sqrt{\\frac{\\sum \\left | X - \\mu \\right |^{2}}{N}}\n",
        "\\end{equation*}\n",
        "\n",
        "where **_N_** is the number of data points in the population."
      ]
    },
    {
      "cell_type": "markdown",
      "metadata": {},
      "source": [
        "**a.** Using `sum()` and `list comprehension`, compute the mean and the standard deviation for the population defined below:"
      ]
    },
    {
      "cell_type": "code",
      "execution_count": 1,
      "metadata": {
        "trusted": true
      },
      "outputs": [
        {
          "name": "stdout",
          "output_type": "stream",
          "text": [
            "[4.5, 5, 5.5, 6, 6.25, 7, 15.25, 18, 18.45, 21, 21.45, 23]\n"
          ]
        }
      ],
      "source": [
        "data =  [4.5, 5, 5.5, 6, 6.25, 7, 15.25, 18, 18.45, 21, 21.45, 23]\n",
        "print(data)"
      ]
    },
    {
      "cell_type": "code",
      "execution_count": 2,
      "metadata": {
        "trusted": true
      },
      "outputs": [
        {
          "name": "stdout",
          "output_type": "stream",
          "text": [
            "12.616666666666667 7.167441818544622\n"
          ]
        }
      ],
      "source": [
        "# Your implementation here:\n",
        "mean = sum(data)/len(data)\n",
        "std = (sum((x-mean)**2 for x in data)/len(data))**0.5\n",
        "\n",
        "print (mean, std)"
      ]
    },
    {
      "cell_type": "markdown",
      "metadata": {},
      "source": [
        "**b.** Define the `z_score()` function and implement the mathematical expression. The obtained values should be stored in a _z score_ values list and rounded to 3 decimals."
      ]
    },
    {
      "cell_type": "code",
      "execution_count": 3,
      "metadata": {
        "trusted": true
      },
      "outputs": [],
      "source": [
        "# Your implementatio here:\n",
        "def z_score(X, mean, sdt):\n",
        "    if sdt == 0:\n",
        "        return \"Cannot divide by 0\"\n",
        "    return (X - mean) / sdt"
      ]
    },
    {
      "cell_type": "markdown",
      "metadata": {},
      "source": [
        "**c.** Add the corresponding elongation of each raw data value into a dictionary."
      ]
    },
    {
      "cell_type": "code",
      "execution_count": 4,
      "metadata": {
        "trusted": true
      },
      "outputs": [
        {
          "name": "stdout",
          "output_type": "stream",
          "text": [
            "{4.5: -1.132, 5: -1.063, 5.5: -0.993, 6: -0.923, 6.25: -0.888, 7: -0.784, 15.25: 0.367, 18: 0.751, 18.45: 0.814, 21: 1.17, 21.45: 1.232, 23: 1.449}\n"
          ]
        }
      ],
      "source": [
        "# Your implementatio here:\n",
        "results = [round(z_score(X, mean, std), 3) for X in data]\n",
        "e = {data[i]: results[i] for i in range(len(data))}\n",
        "\n",
        "print (e)"
      ]
    },
    {
      "cell_type": "markdown",
      "metadata": {
        "id": "18ICxssnuguh"
      },
      "source": [
        "## Classes\n",
        "\n",
        "The object-oriented programming paradigm in Python helps with structuring programs into `individual objects`. But how?\n",
        "\n",
        "* An Object **O** from a class **C** has a set of properties **_p_** and actions **_a_**.\n",
        "\n",
        "* The functions of a class are called `methods`. Their responsibility is to model the data corresponding to a given object.\n",
        "\n",
        "* The objects of a class are known as `instances` and represent the source of collecting data.\n",
        "\n",
        "```python\n",
        "\n",
        "class EmptyClas:\n",
        "    \"\"\"\n",
        "    This is a class without variables and methods\n",
        "    \"\"\"\n",
        "    pass # The keyword pass is a placeholder\n",
        "\n",
        "\n",
        "class MyClass:\n",
        "    # A class variable\n",
        "    name = 'My Class'\n",
        "    \n",
        "    def my_method(self, my_var):\n",
        "        # An instance variable\n",
        "        self.my_instance = my_var\n",
        "```"
      ]
    },
    {
      "cell_type": "code",
      "execution_count": 5,
      "metadata": {
        "id": "XhgoWxJGuguk",
        "trusted": true
      },
      "outputs": [],
      "source": [
        "# Implement Task 0 b and c here:\n",
        "\n",
        "class ScientificConference:\n",
        "    r\"\"\"\n",
        "    To define the properties of a class, \n",
        "    we use a special method called __init__.\n",
        "    \n",
        "    The special variable called \"self\"\n",
        "    helps with associating the attributes\n",
        "    w\\ the new object: similar to `this`\n",
        "    keyword from other programming languages\n",
        "    and required to address variables from\n",
        "    classes. \n",
        "    \"\"\"\n",
        "    def __init__(self, name, year, papers=None):\n",
        "        \"\"\"\n",
        "        Establish the attributes of the\n",
        "        class and assign values to the \n",
        "        corresponding parameters.\n",
        "        \"\"\" \n",
        "        self.name = name\n",
        "        self.year = year\n",
        "        \"\"\"\n",
        "        b. Add new attribute `papers`\n",
        "        \"\"\"\n",
        "        self.papers = papers if papers is not None else {}\n",
        "\n",
        "    \n",
        "    def add_manuscript(self, title, researcher):\n",
        "        if researcher not in self.papers:\n",
        "            self.papers[researcher] = []\n",
        "\n",
        "        if title in self.papers[researcher]:\n",
        "            return\n",
        "\n",
        "        self.papers[researcher].append(title)        \n",
        "\n",
        "    def __str__(self):\n",
        "        \"\"\"\n",
        "        To return the String representation of\n",
        "        an object, we use the __str__ method. \n",
        "        \"\"\"\n",
        "        result = self.name + ' ' + str(self.year) + ': \\n'\n",
        "        for author, papers in self.papers.items():\n",
        "            result += f'{author}: {\", \".join([str(paper) for paper in papers])} \\n'\n",
        "        return result"
      ]
    },
    {
      "cell_type": "markdown",
      "metadata": {
        "id": "6xdy3BZ7ugu1"
      },
      "source": [
        "### Task 0\n",
        "\n",
        "**a.** Define two new `instances` of the `class ScientificConference` and return their representations.\n",
        "\n",
        "Your output should look like:\n",
        "\n",
        "`Proposals for ICML and NeurIPS conferences will be accepted until the end of November 2021.`\n",
        "\n",
        "_Hint:_ `instance.attribute` helps you extracting a certain property."
      ]
    },
    {
      "cell_type": "code",
      "execution_count": 6,
      "metadata": {
        "id": "ezLUEAgkugu5",
        "trusted": true
      },
      "outputs": [
        {
          "data": {
            "text/plain": [
              "'Proposals for ICML and NeurIPS conferences will be accepted until the end of November 2021.'"
            ]
          },
          "execution_count": 6,
          "metadata": {},
          "output_type": "execute_result"
        }
      ],
      "source": [
        "# Your implementation here\n",
        "icml = ScientificConference(\"ICML\", 2021)\n",
        "neurips = ScientificConference(\"NeurIPS\", 2021)\n",
        "f\"Proposals for {icml.name} and {neurips.name} conferences will be accepted until the end of November {icml.year}.\"\n"
      ]
    },
    {
      "cell_type": "markdown",
      "metadata": {
        "id": "7ZvLz1GZugvC"
      },
      "source": [
        "**b.** Create a new attribute for the `class ScientificConference`, which is a dictionary passed as a parameter to the instances of the class and holds all of the papers of the conference.\n",
        "\n",
        "_Note:_ You should check if `papers` is `None` in `__init__` and set it to `{}` instead.\n",
        "\n",
        "_Please handle duplicate entries by removing them!_"
      ]
    },
    {
      "cell_type": "markdown",
      "metadata": {
        "id": "Tw7tlZtTugvF"
      },
      "source": [
        "**c.** Define the `add_manuscript` method which generates new entries in the dictionary described before. Please consider using the _researcher_ as a `key` and the _title_ as `values`."
      ]
    },
    {
      "cell_type": "code",
      "execution_count": 7,
      "metadata": {
        "trusted": true
      },
      "outputs": [
        {
          "name": "stdout",
          "output_type": "stream",
          "text": [
            "ICML 2021: \n",
            "Person 1: Paper 1 \n",
            "Person 2: Paper 2 \n",
            "\n"
          ]
        }
      ],
      "source": [
        "conf = ScientificConference(\"ICML\", 2021, {})\n",
        "\n",
        "conf.add_manuscript(\"Paper 1\", \"Person 1\")\n",
        "conf.add_manuscript(\"Paper 2\", \"Person 2\")\n",
        "conf.add_manuscript(\"Paper 1\", \"Person 1\")  #duplicate\n",
        "\n",
        "print(conf)"
      ]
    },
    {
      "cell_type": "markdown",
      "metadata": {
        "id": "HUKrHifWugvP"
      },
      "source": [
        "### Task 1\n",
        "\n",
        "**a.** Define the class `Person` which stores the `title`, `name` and `surname` of a person.\n",
        "\n",
        "The _tuple_ `allowed_titles` is a class variable which helps to verify if the title of a person is \"Mr\", \"Mrs\", \"Ms\", \"Senior Researcher\", \"Professor of CS\" or \"Computer Scientist\".\n",
        "\n",
        "An error is returned if the title is not valid.\n",
        "\n",
        "Use `__str__` defined below:\n",
        "\n",
        "```python\n",
        "    def __str__(self):\n",
        "        return self.title + ' ' + self.surname + ' ' + self.name\n",
        "```"
      ]
    },
    {
      "cell_type": "code",
      "execution_count": 8,
      "metadata": {
        "id": "CLYRkzHSugvR",
        "trusted": true
      },
      "outputs": [],
      "source": [
        "# Your implementation here\n",
        "class Person:\n",
        "    allowed_titles = (\"Mr\", \"Mrs\", \"Ms\", \"Senior Researcher\", \"Professor of CS\", \"Computer Scientist\")\n",
        "\n",
        "    def __init__(self, title, name, surname):\n",
        "        if title not in Person.allowed_titles:\n",
        "            raise ValueError(\"The title isn't right\")\n",
        "        self.title = title\n",
        "        self.name = name\n",
        "        self.surname = surname\n",
        "        \n",
        "    def __str__(self):\n",
        "            return self.title + ' ' + self.surname + ' ' + self.name"
      ]
    },
    {
      "cell_type": "markdown",
      "metadata": {
        "id": "ZcjB03J3ugva"
      },
      "source": [
        "**b.** Create two instances of the class Person and verify if the following entries are valid:\n",
        "\n",
        "* _Mr Ian Goodfellow_,\n",
        "* _SeniorResearcher Tomas Mikolov._"
      ]
    },
    {
      "cell_type": "code",
      "execution_count": 9,
      "metadata": {
        "id": "U8jKwHK8ugvc",
        "trusted": true
      },
      "outputs": [
        {
          "ename": "ValueError",
          "evalue": "The title isn't right",
          "output_type": "error",
          "traceback": [
            "\u001b[31m---------------------------------------------------------------------------\u001b[39m",
            "\u001b[31mValueError\u001b[39m                                Traceback (most recent call last)",
            "\u001b[36mCell\u001b[39m\u001b[36m \u001b[39m\u001b[32mIn[9]\u001b[39m\u001b[32m, line 4\u001b[39m\n\u001b[32m      1\u001b[39m \u001b[38;5;66;03m# Your implementation here\u001b[39;00m\n\u001b[32m      3\u001b[39m p1 = Person(\u001b[33m\"\u001b[39m\u001b[33mMr\u001b[39m\u001b[33m\"\u001b[39m,\u001b[33m\"\u001b[39m\u001b[33mIan\u001b[39m\u001b[33m\"\u001b[39m,\u001b[33m\"\u001b[39m\u001b[33mGoodfellow\u001b[39m\u001b[33m\"\u001b[39m)\n\u001b[32m----> \u001b[39m\u001b[32m4\u001b[39m p2 = \u001b[43mPerson\u001b[49m\u001b[43m(\u001b[49m\u001b[33;43m\"\u001b[39;49m\u001b[33;43mSeniorResearcher\u001b[39;49m\u001b[33;43m\"\u001b[39;49m\u001b[43m,\u001b[49m\u001b[33;43m\"\u001b[39;49m\u001b[33;43mTomas\u001b[39;49m\u001b[33;43m\"\u001b[39;49m\u001b[43m,\u001b[49m\u001b[33;43m\"\u001b[39;49m\u001b[33;43mMikolov\u001b[39;49m\u001b[33;43m\"\u001b[39;49m\u001b[43m)\u001b[49m\n\u001b[32m      6\u001b[39m \u001b[38;5;28mprint\u001b[39m(p1)\n\u001b[32m      7\u001b[39m \u001b[38;5;28mprint\u001b[39m(p2)\n",
            "\u001b[36mCell\u001b[39m\u001b[36m \u001b[39m\u001b[32mIn[8]\u001b[39m\u001b[32m, line 7\u001b[39m, in \u001b[36mPerson.__init__\u001b[39m\u001b[34m(self, title, name, surname)\u001b[39m\n\u001b[32m      5\u001b[39m \u001b[38;5;28;01mdef\u001b[39;00m\u001b[38;5;250m \u001b[39m\u001b[34m__init__\u001b[39m(\u001b[38;5;28mself\u001b[39m, title, name, surname):\n\u001b[32m      6\u001b[39m     \u001b[38;5;28;01mif\u001b[39;00m title \u001b[38;5;129;01mnot\u001b[39;00m \u001b[38;5;129;01min\u001b[39;00m Person.allowed_titles:\n\u001b[32m----> \u001b[39m\u001b[32m7\u001b[39m         \u001b[38;5;28;01mraise\u001b[39;00m \u001b[38;5;167;01mValueError\u001b[39;00m(\u001b[33m\"\u001b[39m\u001b[33mThe title isn\u001b[39m\u001b[33m'\u001b[39m\u001b[33mt right\u001b[39m\u001b[33m\"\u001b[39m)\n\u001b[32m      8\u001b[39m     \u001b[38;5;28mself\u001b[39m.title = title\n\u001b[32m      9\u001b[39m     \u001b[38;5;28mself\u001b[39m.name = name\n",
            "\u001b[31mValueError\u001b[39m: The title isn't right"
          ]
        }
      ],
      "source": [
        "# Your implementation here\n",
        "\n",
        "p1 = Person(\"Mr\",\"Ian\",\"Goodfellow\")\n",
        "p2 = Person(\"SeniorResearcher\",\"Tomas\",\"Mikolov\")\n",
        "\n",
        "print(p1)\n",
        "print(p2)"
      ]
    },
    {
      "cell_type": "markdown",
      "metadata": {
        "id": "sJGqy2Zxugvm"
      },
      "source": [
        "### Task 2\n",
        "\n",
        "In `ScientificConference` we have been using the paper parameter as a string, but this concept requires a detailed structure.\n",
        "\n",
        "Introduce a new class, `Paper`, which has the following attributes:\n",
        "\n",
        "* `authors`, \n",
        "* `title`, \n",
        "* `a_id`,\n",
        "* `year`, \n",
        "* `status` (published or in development), \n",
        "* `peer_rating` (Excellent, Good, Fair, Poor, Barely Acceptable, Unacceptable)."
      ]
    },
    {
      "cell_type": "code",
      "execution_count": null,
      "metadata": {
        "id": "1hPZ7q3rugvn",
        "trusted": true
      },
      "outputs": [],
      "source": [
        "class Paper:\n",
        "    def __init__(self, authors, title, a_id, status, year, peer_rating):\n",
        "        self.authors = authors\n",
        "        self.title = title\n",
        "        self.a_id = str(a_id)\n",
        "        self.status = status  \n",
        "        self.year = int(year)\n",
        "        self.peer_rating = peer_rating \n",
        "\n",
        "    def __str__(self):\n",
        "        return  f'{self.title}, {\", \".join([author for author in self.authors])} et al. ({self.year}), a_id: '\\\n",
        "                f'{self.a_id}, status: {self.status}, rating: {self.peer_rating}'"
      ]
    },
    {
      "cell_type": "markdown",
      "metadata": {
        "id": "j82CL54Augvv"
      },
      "source": [
        "## Inheritence\n",
        "\n",
        "In Object-Oriented programming, this concept enables us to transfer the methods and the properties of a class to another class."
      ]
    },
    {
      "cell_type": "markdown",
      "metadata": {
        "id": "rZqutiFsugvw"
      },
      "source": [
        "### Task 3\n",
        "\n",
        "Create a class named `Researcher`, which inherits the properties and methods from the `Person` class. Besides, this class has an additional parameter, `papers` which is `None` by default.\n",
        "\n",
        "_Note:_ You should check if `papers` is `None` in `__init__` and set it to `[]` instead.\n",
        "\n",
        "```python\n",
        "class Researcher(Person):\n",
        "    def __init__('Add arguments'):\n",
        "        super().__init__(title, name, surname)\n",
        "```"
      ]
    },
    {
      "cell_type": "code",
      "execution_count": null,
      "metadata": {
        "id": "QCfpoVveugvy",
        "trusted": true
      },
      "outputs": [
        {
          "name": "stdout",
          "output_type": "stream",
          "text": [
            "Senior Researcher Mikolov Tomas\n"
          ]
        }
      ],
      "source": [
        "# Define your first researcher\n",
        "# Expected output: Senior Researcher Tomas Mikolov\n",
        "\n",
        "class Researcher(Person):\n",
        "    def __init__(self, title, name, surname, papers = None):\n",
        "        super().__init__(title, name, surname)\n",
        "        self.papers = papers if papers is not None else []\n",
        "        self.co_authored = False\n",
        "\n",
        "    def add_paper(self, paper):\n",
        "        self.papers.append(paper)\n",
        "\n",
        "    def verify_co_authorship(self):\n",
        "        self.co_authored = any(len(p.authors) > 1 for p in self.papers)\n",
        "        return self.co_authored\n",
        "\n",
        "    def get_collab(self, other):\n",
        "        collab_papers = []\n",
        "        for paper in self.papers:\n",
        "            for author in paper.authors:\n",
        "                if other.surname in author:\n",
        "                    collab_papers.append(paper)\n",
        "        return collab_papers\n",
        "\n",
        "    def print_papers(paper_list):\n",
        "        for paper in paper_list:\n",
        "            print(paper)\n",
        "\n",
        "\n",
        "mikolov = Researcher(\"Senior Researcher\", \"Tomas\", \"Mikolov\")\n",
        "print(mikolov)\n"
      ]
    },
    {
      "cell_type": "markdown",
      "metadata": {
        "id": "40nAxy14ugv8"
      },
      "source": [
        "### Task 4\n",
        "\n",
        "Consider the following scientists:\n",
        "\n",
        "1.  Paper _Deep Learning_ published by Yann LeCun, Yoshua Bengio, Geoffrey Hinton, in _nature 521_, id = https://doi.org/10.1038/nature14539, peer_rating = Excelent.\n",
        "\n",
        "2. Paper _On the difficulty of training recurrent neural networks_ by Razvan Pascanu, Tomas Mikolov, Professor of computer science Yoshua Bengio, in ICML 2013, id = https://arxiv.org/abs/1211.5063, peer_rating = Excelent.\n",
        "\n",
        "2. Paper _Generative Adversarial Nets_ by Ian Goodfellow and Yoshua Bengio, NeurIPS 2015, id = http://papers.nips.cc/paper/5423-generative-adversarial-nets.pdf, peer_rating = Excelent.\n",
        "\n",
        "3. Paper _Handwritten Digit Recognition with a Back-Propagation Network_ by Computer Scientist Yann LeCun, NeurIPS 1989, id =  https://papers.nips.cc/paper/293-handwritten-digit-recognition-with-a-back-propagation-network, peer_rating = Excelent.\n",
        "\n",
        "4. Paper _Gated Softmax Classification_ by Geoffrey Hintorn, NeurIPS 2010, id = http://papers.neurips.cc/paper/3895-gated-softmax-classification, peer_rating = Good.\n",
        "\n",
        "_Note:_ Let us consider \"Mr\" as a default title for the researchers without a specific caption. Also, for the id of a paper, please use only integers from the provided links.\n",
        "\n",
        "**a.** Define the next 5 scientists and use them in your `paper` objects.\n",
        "\n",
        "**b.** Create the `verify_co_authorship` function inside the `class Researcher` which checks if a certain researcher ever co-authored a paper.\n",
        "_Hint:_ Use `self.co_authored = False` inside the `__init__` function.\n",
        "\n",
        "**c.** Implement the `get_collab` function inside the `class Researcher` to discover the papers written by two researchers.\n",
        "\n",
        "For instance, if Yoshua Bengio is researcher2 and Ian Goodfellow is researcher3, then:\n",
        "\n",
        "`print_papers(researcher2.get_collab(researcher3))` should output:\n",
        "\n",
        "_Generative Adversarial Nets, Mr Ian Goodfellow et al. (2015), a_id: 5423, status: published, rating: Excelent_\n",
        "\n",
        "_Note:_ This function helps you to print the papers from a given list.\n",
        "\n",
        "```python\n",
        "def print_papers(paper_list):\n",
        "    for paper in paper_list:\n",
        "        print(paper)\n",
        "```\n",
        "\n",
        "**d.** What are the papers written by Yoshua Bengio?\n",
        "\n",
        "Expected output:\n",
        "\n",
        "`Deep Learning, Computer Scientist Yann LeCun et al. (2015), a_id: 14539, status: published, rating: Excelent`\n",
        "\n",
        "`Generative Adversarial Nets, Mr Ian Goodfellow et al. (2015), a_id: 5423, status: published, rating: Excelent`\n",
        "\n",
        "`Paper On the difficulty of training recurrent neural networks, Mr Razvan Pascanu et al. (2013), a_id: 5063, status: published, rating: Excelent`\n",
        "\n",
        "**e.** Did he ever co-author a paper?\n",
        "\n",
        "**f.** Which papers are published by Yann LeCun?\n",
        "\n",
        "Expected output:\n",
        "\n",
        "`Deep Learning, Computer Scientist Yann LeCun et al. (2015), a_id: 14539, status: published, rating: Excelent`\n",
        "\n",
        "`Handwritten Digit Recognition with a Back-Propagation Network, Computer Scientist Yann LeCun et al. (1989), a_id: 293, status: published, rating: Good`"
      ]
    },
    {
      "cell_type": "code",
      "execution_count": null,
      "metadata": {
        "trusted": true
      },
      "outputs": [
        {
          "name": "stdout",
          "output_type": "stream",
          "text": [
            "Generative Adversarial Nets, Mr Goodfellow Ian, Professor of CS Bengio Yoshua et al. (2015), a_id: 5423, status: published, rating: Excelent\n",
            "Deep Learning, Computer Scientist LeCun Yann, Professor of CS Bengio Yoshua, Professor of CS Hinton Geoffrey et al. (2015), a_id: 14539, status: published, rating: Excelent\n",
            "On the difficulty of training recurrent neural networks, Mr Pascanu Razvan, Senior Researcher Mikolov Tomas, Professor of CS Bengio Yoshua et al. (2013), a_id: 5063, status: published, rating: Excelent\n",
            "Generative Adversarial Nets, Mr Goodfellow Ian, Professor of CS Bengio Yoshua et al. (2015), a_id: 5423, status: published, rating: Excelent\n",
            "True\n",
            "Deep Learning, Computer Scientist LeCun Yann, Professor of CS Bengio Yoshua, Professor of CS Hinton Geoffrey et al. (2015), a_id: 14539, status: published, rating: Excelent\n",
            "Handwritten Digit Recognition with a Back-Propagation Network, Computer Scientist LeCun Yann et al. (1989), a_id: 293, status: published, rating: Good\n"
          ]
        }
      ],
      "source": [
        "def print_papers(paper_list):\n",
        "    for paper in paper_list:\n",
        "        print(paper)\n",
        "\n",
        "lecun = Researcher(\"Computer Scientist\", \"Yann\", \"LeCun\")\n",
        "bengio = Researcher(\"Professor of CS\", \"Yoshua\", \"Bengio\")\n",
        "hinton = Researcher(\"Professor of CS\", \"Geoffrey\", \"Hinton\")\n",
        "goodfellow = Researcher(\"Mr\", \"Ian\", \"Goodfellow\")\n",
        "pascanu = Researcher(\"Mr\", \"Razvan\", \"Pascanu\")\n",
        "\n",
        "deep_learning = Paper(\n",
        "    authors=[str(lecun), str(bengio), str(hinton)],\n",
        "    title=\"Deep Learning\",\n",
        "    a_id=14539,\n",
        "    status=\"published\",\n",
        "    year=2015,\n",
        "    peer_rating=\"Excelent\"\n",
        ")\n",
        "\n",
        "difficulty = Paper(\n",
        "    authors=[str(pascanu), str(mikolov), str(bengio)],\n",
        "    title=\"On the difficulty of training recurrent neural networks\",\n",
        "    a_id=5063,\n",
        "    status=\"published\",\n",
        "    year=2013,\n",
        "    peer_rating=\"Excelent\"\n",
        ")\n",
        "\n",
        "generative = Paper(\n",
        "    authors=[str(goodfellow), str(bengio)],\n",
        "    title=\"Generative Adversarial Nets\",\n",
        "    a_id=5423,\n",
        "    status=\"published\",\n",
        "    year=2015,\n",
        "    peer_rating=\"Excelent\"\n",
        ")\n",
        "\n",
        "handwritten = Paper(\n",
        "    authors=[str(lecun)],\n",
        "    title=\"Handwritten Digit Recognition with a Back-Propagation Network\",\n",
        "    a_id=293,\n",
        "    status=\"published\",\n",
        "    year=1989,\n",
        "    peer_rating=\"Good\"\n",
        ")\n",
        "\n",
        "gated_softmax = Paper(\n",
        "    authors=[str(hinton)],\n",
        "    title=\"Gated Softmax Classification\",\n",
        "    a_id=3895,\n",
        "    status=\"published\",\n",
        "    year=2010,\n",
        "    peer_rating=\"Good\"\n",
        ")\n",
        "\n",
        "all_papers = [deep_learning, difficulty, generative, handwritten, gated_softmax]\n",
        "all_researchers = [lecun, bengio, hinton, goodfellow, pascanu, mikolov]\n",
        "\n",
        "for paper in all_papers:\n",
        "    for r in all_researchers:\n",
        "        for author in paper.authors:\n",
        "            if r.surname in author:\n",
        "                r.add_paper(paper)\n",
        "                break\n",
        "\n",
        "print_papers(bengio.get_collab(goodfellow)) #c\n",
        "print_papers(bengio.papers) #d\n",
        "print(bengio.verify_co_authorship()) #e\n",
        "print_papers(lecun.papers) #f"
      ]
    },
    {
      "cell_type": "markdown",
      "metadata": {
        "id": "AImKzUZgugv9"
      },
      "source": [
        "### Task 5 \n",
        "\n",
        "Consider an updated version of the `ScientificConference` class, which should have a modified version of the function `add_manuscript`.\n",
        "\n",
        "Use the `status` and the `peer_rating` variables as a **threshold** to add papers in your `papers` dictionary. The conferences will only be accepting `Excelent` papers. For this case, the dictionary has the year of the paper as `key`, and the `values` are stored as a tuple of `(researcher, manuscript)`. For the papers which don't satisfy this condition, the message _\"Please review your submission.\"_ is displayed.\n",
        "\n",
        "For papers submitted in 2015, when printing the conference, the `str` function should output:\n",
        "\n",
        "```\n",
        "NeurIPS 2020: \n",
        "2015: \n",
        "Mr Ian Goodfellow: Generative Adversarial Nets, Mr Ian Goodfellow et al. (2015), id: 5423, status: published, rating: Excelent \n",
        "Computer Scientist Yann LeCun: Deep Learning, Computer Scientist Yann LeCun et al. (2015), id: 14539, status: published, rating: Excelent\n",
        "```"
      ]
    },
    {
      "cell_type": "raw",
      "metadata": {
        "id": "EDsHycjEugv_"
      },
      "source": [
        "class ScientificConferenceUpdate:\n",
        "    r\"\"\"\n",
        "    To define the properties of a class, \n",
        "    we use a special method called __init__.\n",
        "    \n",
        "    The special variable called \"self\"\n",
        "    helps with associating the attributes\n",
        "    w\\ the new object: similar to `this`\n",
        "    keyword from other programming languages\n",
        "    and required to address variables from\n",
        "    classes. \n",
        "    \"\"\"\n",
        "    def __init__(self, name, year):\n",
        "        \"\"\"\n",
        "        Establish the attributes of the\n",
        "        class and assign values to the \n",
        "        corresponding parameters.\n",
        "        \"\"\" \n",
        "        self.name = name\n",
        "        self.year = year\n",
        "        \"\"\"\n",
        "        Add new attribute `papers`\n",
        "        \"\"\"\n",
        "        self.papers={}\n",
        "    \n",
        "    def add_manuscript(self, manuscript, researcher):\n",
        "        if manuscript.status != \"published\" or manuscript.peer_rating != \"Excelent\":\n",
        "            print(\"Please review your submission.\")\n",
        "            return\n",
        "        y = manuscript.year\n",
        "        if y not in self.papers:\n",
        "            self.papers[y] = []\n",
        "        self.papers[y].append((str(researcher), str(manuscript)))\n",
        "        \n",
        "    def __str__(self):\n",
        "        \"\"\"\n",
        "        To return the String representation of\n",
        "        an object, we use the __str__ method. \n",
        "        \"\"\"\n",
        "        result = self.name + ' ' + str(self.year) + ': \\n'\n",
        "        for year, papers in self.papers.items():\n",
        "            result += f'{year}: \\n'\n",
        "            for (author, paper) in papers: \n",
        "                result += f'{author}: {paper} \\n'\n",
        "        return result"
      ]
    },
    {
      "cell_type": "code",
      "execution_count": null,
      "metadata": {
        "trusted": true
      },
      "outputs": [
        {
          "name": "stdout",
          "output_type": "stream",
          "text": [
            "NeurIPS 2020: \n",
            "2015: \n",
            "Mr Goodfellow Ian: Generative Adversarial Nets, Mr Goodfellow Ian, Professor of CS Bengio Yoshua et al. (2015), a_id: 5423, status: published, rating: Excelent \n",
            "Computer Scientist LeCun Yann: Deep Learning, Computer Scientist LeCun Yann, Professor of CS Bengio Yoshua, Professor of CS Hinton Geoffrey et al. (2015), a_id: 14539, status: published, rating: Excelent \n",
            "\n"
          ]
        }
      ],
      "source": [
        "neurips20 = ScientificConferenceUpdate(\"NeurIPS\", 2020)\n",
        "neurips20.add_manuscript(generative, goodfellow)\n",
        "neurips20.add_manuscript(deep_learning, lecun)\n",
        "print(neurips20)"
      ]
    }
  ],
  "metadata": {
    "colab": {
      "collapsed_sections": [],
      "name": "Lab03_AI.ipynb",
      "provenance": []
    },
    "kernelspec": {
      "display_name": "Python 3",
      "language": "python",
      "name": "python3"
    },
    "language_info": {
      "codemirror_mode": {
        "name": "ipython",
        "version": 3
      },
      "file_extension": ".py",
      "mimetype": "text/x-python",
      "name": "python",
      "nbconvert_exporter": "python",
      "pygments_lexer": "ipython3",
      "version": "3.12.4"
    }
  },
  "nbformat": 4,
  "nbformat_minor": 4
}
